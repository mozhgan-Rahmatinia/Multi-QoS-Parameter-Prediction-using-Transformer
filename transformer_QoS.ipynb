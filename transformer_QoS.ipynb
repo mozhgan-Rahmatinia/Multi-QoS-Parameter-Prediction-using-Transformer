{
  "cells": [
    {
      "cell_type": "code",
      "execution_count": 17,
      "metadata": {
        "colab": {
          "base_uri": "https://localhost:8080/",
          "height": 35
        },
        "id": "SXJR6oUF5bAx",
        "outputId": "3b505bd9-eb86-49c2-cd52-cd336ddd2b70"
      },
      "outputs": [
        {
          "data": {
            "application/vnd.google.colaboratory.intrinsic+json": {
              "type": "string"
            },
            "text/plain": [
              "'/content/drive/MyDrive/model'"
            ]
          },
          "execution_count": 17,
          "metadata": {},
          "output_type": "execute_result"
        }
      ],
      "source": [
        "import os\n",
        "os.getcwd()"
      ]
    },
    {
      "cell_type": "code",
      "execution_count": 18,
      "metadata": {
        "colab": {
          "base_uri": "https://localhost:8080/"
        },
        "id": "pYuhwN0C5Z_j",
        "outputId": "2d970bb3-c918-44fb-9caa-80f27c73a3d5"
      },
      "outputs": [
        {
          "name": "stdout",
          "output_type": "stream",
          "text": [
            "Drive already mounted at /content/drive; to attempt to forcibly remount, call drive.mount(\"/content/drive\", force_remount=True).\n"
          ]
        }
      ],
      "source": [
        "from google.colab import drive\n",
        "drive.mount('/content/drive')"
      ]
    },
    {
      "cell_type": "code",
      "execution_count": 19,
      "metadata": {
        "id": "Tkd3Eyqb5Z_m"
      },
      "outputs": [],
      "source": [
        "os.chdir('/content/drive/MyDrive') #/model --Add your addres"
      ]
    },
    {
      "cell_type": "code",
      "execution_count": 20,
      "metadata": {
        "colab": {
          "base_uri": "https://localhost:8080/",
          "height": 35
        },
        "id": "qm8vaIoe6BrX",
        "outputId": "3917bcca-a8c2-41f6-a673-070a76864b45"
      },
      "outputs": [
        {
          "data": {
            "application/vnd.google.colaboratory.intrinsic+json": {
              "type": "string"
            },
            "text/plain": [
              "'/content/drive/MyDrive/model'"
            ]
          },
          "execution_count": 20,
          "metadata": {},
          "output_type": "execute_result"
        }
      ],
      "source": [
        "os.getcwd()"
      ]
    },
    {
      "cell_type": "markdown",
      "metadata": {
        "id": "l8c1kAdk5Z_n"
      },
      "source": [
        "# Experiments: Train and Test"
      ]
    },
    {
      "cell_type": "code",
      "execution_count": 21,
      "metadata": {
        "id": "crf5OsxV5Z_o"
      },
      "outputs": [],
      "source": [
        "from utils.tools import dotdict\n",
        "from exp.exp_main import Exp_Main\n",
        "import torch\n",
        "import os"
      ]
    },
    {
      "cell_type": "code",
      "execution_count": 22,
      "metadata": {
        "colab": {
          "base_uri": "https://localhost:8080/"
        },
        "id": "Ev6f0CP25Z_q",
        "outputId": "05958e03-b8b1-4c42-8046-529c32c63083"
      },
      "outputs": [
        {
          "name": "stdout",
          "output_type": "stream",
          "text": [
            "Args in experiment:\n",
            "{'target': 'OT', 'des': 'Exp', 'dropout': 0.001, 'num_workers': 10, 'gpu': 0, 'lradj': 'type1', 'devices': '0', 'use_gpu': True, 'use_multi_gpu': False, 'freq': 'h', 'checkpoints': './checkpoints/', 'bucket_size': 4, 'n_hashes': 4, 'is_trainging': True, 'root_path': './data/Internet_QoS/', 'data_path': 'QoS_W20.csv', 'model_id': '1NEW_Multi_QoS_Parameter_Prediction', 'model': 'Transformer', 'data': 'custom', 'features': 'M', 'seq_len': 96, 'label_len': 48, 'pred_len': 24, 'e_layers': 2, 'd_layers': 2, 'n_heads': 8, 'factor': 1, 'enc_in': 5, 'dec_in': 5, 'c_out': 5, 'd_model': 512, 'itr': 1, 'd_ff': 4096, 'moving_avg': 25, 'distil': True, 'output_attention': False, 'patience': 5, 'learning_rate': 0.0001, 'batch_size': 32, 'embed': 'timeF', 'activation': 'relue', 'use_amp': False, 'loss': 'mse', 'train_epochs': 50}\n"
          ]
        }
      ],
      "source": [
        "args = dotdict()\n",
        "args.target = 'OT' #target lable\n",
        "args.des = 'test'\n",
        "args.dropout = 0.001\n",
        "args.num_workers = 10\n",
        "args.gpu = 0\n",
        "args.lradj = 'type1'\n",
        "args.devices = '0'\n",
        "args.use_gpu = True\n",
        "args.use_multi_gpu = False\n",
        "args.freq = 'h'\n",
        "args.checkpoints = './checkpoints/'\n",
        "args.bucket_size = 4\n",
        "args.n_hashes = 4\n",
        "args.is_trainging = True\n",
        "args.root_path = './data/Internet_QoS/' #Root path in google drive\n",
        "args.data_path ='QoS_W20.csv' # Data set Name\n",
        "args.model_id='1NEW_Multi_QoS_Parameter_Prediction' #Result model name- You can change it.\n",
        "args.model ='Transformer'\n",
        "args.data = 'custom'\n",
        "args.features = 'M'    # M: Multi lable input multi lable prediction, MS: Multi lable input single output prediction (OT), S\n",
        "args.seq_len = 96\n",
        "args.label_len = 48\n",
        "args.pred_len = 24  #6, 12,  24, 48\n",
        "args.e_layers = 2\n",
        "args.d_layers = 2\n",
        "args.n_heads = 8\n",
        "args.factor = 3\n",
        "args.enc_in = 5\n",
        "args.dec_in = 5\n",
        "args.c_out = 5\n",
        "args.d_model = 512\n",
        "args.des = 'Exp'\n",
        "args.itr = 1\n",
        "args.d_ff = 4096\n",
        "args.moving_avg = 25\n",
        "args.factor = 1\n",
        "args.distil = True\n",
        "args.output_attention = False\n",
        "args.patience= 5\n",
        "args.learning_rate = 0.0001\n",
        "args.batch_size = 32\n",
        "args.embed = 'timeF'\n",
        "args.activation = 'relue' #'gelu'\n",
        "args.use_amp = False\n",
        "args.loss = 'mse'\n",
        "args.train_epochs = 50\n",
        "print('Args in experiment:')\n",
        "print(args)\n",
        "\n",
        "Exp = Exp_Main"
      ]
    },
    {
      "cell_type": "code",
      "execution_count": 23,
      "metadata": {
        "colab": {
          "base_uri": "https://localhost:8080/"
        },
        "id": "fJHeQNNs5Z_s",
        "outputId": "adc00299-bfbf-462d-a753-93a6e5801b65"
      },
      "outputs": [
        {
          "name": "stdout",
          "output_type": "stream",
          "text": [
            "Use GPU: cuda:0\n",
            "1\n",
            ">>>>>>>start training : 1NEW_Multi_QoS_Parameter_Prediction_Transformer>>>>>>>>>>>>>>>>>>>>>>>>>>\n",
            "train 12161\n",
            "val 1733\n",
            "test 3485\n",
            "\titers: 100, epoch: 1 | loss: 0.4465174\n",
            "\tspeed: 0.1535s/iter; left time: 2901.6826s\n",
            "\titers: 200, epoch: 1 | loss: 0.4512973\n",
            "\tspeed: 0.1557s/iter; left time: 2928.2484s\n",
            "\titers: 300, epoch: 1 | loss: 0.4099228\n",
            "\tspeed: 0.1617s/iter; left time: 3024.4374s\n",
            "Epoch: 1 cost time: 60.13620662689209\n",
            "Epoch: 1, Steps: 380 | Train Loss: 0.4370820 Vali Loss: 0.3556766 Test Loss: 0.3260243\n",
            "Validation loss decreased (inf --> 0.355677).  Saving model ...\n",
            "Updating learning rate to 0.0001\n",
            "\titers: 100, epoch: 2 | loss: 0.2980143\n",
            "\tspeed: 0.3912s/iter; left time: 7245.2182s\n",
            "\titers: 200, epoch: 2 | loss: 0.2625591\n",
            "\tspeed: 0.1531s/iter; left time: 2820.9198s\n",
            "\titers: 300, epoch: 2 | loss: 0.2957446\n",
            "\tspeed: 0.1552s/iter; left time: 2843.2363s\n",
            "Epoch: 2 cost time: 60.089707374572754\n",
            "Epoch: 2, Steps: 380 | Train Loss: 0.2698697 Vali Loss: 0.3539197 Test Loss: 0.3520527\n",
            "Validation loss decreased (0.355677 --> 0.353920).  Saving model ...\n",
            "Updating learning rate to 5e-05\n",
            "\titers: 100, epoch: 3 | loss: 0.2764392\n",
            "\tspeed: 0.3921s/iter; left time: 7113.0170s\n",
            "\titers: 200, epoch: 3 | loss: 0.2389305\n",
            "\tspeed: 0.1562s/iter; left time: 2817.3729s\n",
            "\titers: 300, epoch: 3 | loss: 0.1822710\n",
            "\tspeed: 0.1562s/iter; left time: 2802.6862s\n",
            "Epoch: 3 cost time: 60.7409462928772\n",
            "Epoch: 3, Steps: 380 | Train Loss: 0.2192540 Vali Loss: 0.3673809 Test Loss: 0.3777016\n",
            "EarlyStopping counter: 1 out of 5\n",
            "Updating learning rate to 2.5e-05\n",
            "\titers: 100, epoch: 4 | loss: 0.1623454\n",
            "\tspeed: 0.3779s/iter; left time: 6711.7343s\n",
            "\titers: 200, epoch: 4 | loss: 0.1751761\n",
            "\tspeed: 0.1556s/iter; left time: 2748.5689s\n",
            "\titers: 300, epoch: 4 | loss: 0.2116134\n",
            "\tspeed: 0.1561s/iter; left time: 2740.7999s\n",
            "Epoch: 4 cost time: 59.678696155548096\n",
            "Epoch: 4, Steps: 380 | Train Loss: 0.2116165 Vali Loss: 0.3645312 Test Loss: 0.3780606\n",
            "EarlyStopping counter: 2 out of 5\n",
            "Updating learning rate to 1.25e-05\n",
            "\titers: 100, epoch: 5 | loss: 0.2448887\n",
            "\tspeed: 0.3980s/iter; left time: 6917.1940s\n",
            "\titers: 200, epoch: 5 | loss: 0.1848167\n",
            "\tspeed: 0.1559s/iter; left time: 2693.9284s\n",
            "\titers: 300, epoch: 5 | loss: 0.1979008\n",
            "\tspeed: 0.1563s/iter; left time: 2684.9012s\n",
            "Epoch: 5 cost time: 60.46922039985657\n",
            "Epoch: 5, Steps: 380 | Train Loss: 0.2077043 Vali Loss: 0.3593763 Test Loss: 0.3715059\n",
            "EarlyStopping counter: 3 out of 5\n",
            "Updating learning rate to 6.25e-06\n",
            "\titers: 100, epoch: 6 | loss: 0.1703596\n",
            "\tspeed: 0.3786s/iter; left time: 6437.1979s\n",
            "\titers: 200, epoch: 6 | loss: 0.2212710\n",
            "\tspeed: 0.1558s/iter; left time: 2633.5042s\n",
            "\titers: 300, epoch: 6 | loss: 0.2335315\n",
            "\tspeed: 0.1559s/iter; left time: 2619.4230s\n",
            "Epoch: 6 cost time: 60.18813610076904\n",
            "Epoch: 6, Steps: 380 | Train Loss: 0.2047592 Vali Loss: 0.3617190 Test Loss: 0.3809250\n",
            "EarlyStopping counter: 4 out of 5\n",
            "Updating learning rate to 3.125e-06\n",
            "\titers: 100, epoch: 7 | loss: 0.1659876\n",
            "\tspeed: 0.3765s/iter; left time: 6257.1896s\n",
            "\titers: 200, epoch: 7 | loss: 0.2171670\n",
            "\tspeed: 0.1550s/iter; left time: 2561.5042s\n",
            "\titers: 300, epoch: 7 | loss: 0.1781697\n",
            "\tspeed: 0.1550s/iter; left time: 2545.2300s\n",
            "Epoch: 7 cost time: 59.81222057342529\n",
            "Epoch: 7, Steps: 380 | Train Loss: 0.2026751 Vali Loss: 0.3632530 Test Loss: 0.3879328\n",
            "EarlyStopping counter: 5 out of 5\n",
            "Early stopping\n",
            "2\n",
            ">>>>>>>testing : 1NEW_Multi_QoS_Parameter_Prediction_Transformer<<<<<<<<<<<<<<<<<<<<<<<<<<<<<<<<<\n",
            "test 3485\n",
            "test shape: (3485, 24, 5) (3485, 24, 5)\n",
            "test shape: (3485, 24, 5) (3485, 24, 5)\n",
            "mse:0.7476799488067627, mae:0.7255321145057678, rmse:0.8646848797798157, mape:2.029857635498047, mspe:433.5897216796875\n",
            "3\n"
          ]
        }
      ],
      "source": [
        "os.environ[\"CUDA_VISIBLE_DEVICES\"] = '0'\n",
        "\n",
        "for ii in range(args.itr):\n",
        "    setting = '{}_{}'.format(\n",
        "        args.model_id,\n",
        "        args.model)\n",
        "\n",
        "    exp = Exp(args)\n",
        "    print(1)\n",
        "    print('>>>>>>>start training : {}>>>>>>>>>>>>>>>>>>>>>>>>>>'.format(setting))\n",
        "    exp.train(setting)\n",
        "    print(2)\n",
        "    print('>>>>>>>testing : {}<<<<<<<<<<<<<<<<<<<<<<<<<<<<<<<<<'.format(setting))\n",
        "    exp.test(setting)\n",
        "    torch.cuda.empty_cache()\n",
        "    print(3)\n"
      ]
    },
    {
      "cell_type": "markdown",
      "metadata": {
        "id": "7M6t_zl4Bwhq"
      },
      "source": []
    },
    {
      "cell_type": "markdown",
      "metadata": {
        "id": "SgLHny-eDeJ3"
      },
      "source": []
    },
    {
      "cell_type": "code",
      "execution_count": 24,
      "metadata": {
        "colab": {
          "base_uri": "https://localhost:8080/"
        },
        "id": "b-2JWsqH5Z_t",
        "outputId": "7c299c97-fcd9-454d-8cdd-72b956c46521"
      },
      "outputs": [
        {
          "name": "stdout",
          "output_type": "stream",
          "text": [
            "pred 1\n"
          ]
        }
      ],
      "source": [
        "exp.predict(setting)"
      ]
    }
  ],
  "metadata": {
    "accelerator": "GPU",
    "colab": {
      "provenance": []
    },
    "gpuClass": "standard",
    "kernelspec": {
      "display_name": "base",
      "language": "python",
      "name": "python3"
    },
    "language_info": {
      "codemirror_mode": {
        "name": "ipython",
        "version": 3
      },
      "file_extension": ".py",
      "mimetype": "text/x-python",
      "name": "python",
      "nbconvert_exporter": "python",
      "pygments_lexer": "ipython3",
      "version": "3.9.13"
    },
    "vscode": {
      "interpreter": {
        "hash": "8ec1ed4803a557ac69aab47dceed289cc9effadaf04c1eb59c412c7bd577a542"
      }
    }
  },
  "nbformat": 4,
  "nbformat_minor": 0
}
